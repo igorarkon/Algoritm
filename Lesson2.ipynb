{
 "cells": [
  {
   "cell_type": "markdown",
   "metadata": {},
   "source": [
    "1. Сгенерировать датасет при помощи sklearn.datasets.make_regression и обучить линейную модель при помощи градиентного спуска (GD) и (стохастического градиентного спуска (SGD) или mini-batch градиентного спуска). Построить графики среднеквадратичной ошибки от числа итераций для обоих методов на одном рисунке, сделать выводы о разнице скорости сходимости каждого из методов."
   ]
  },
  {
   "cell_type": "code",
   "execution_count": 3,
   "metadata": {},
   "outputs": [],
   "source": [
    "from sklearn import datasets\n",
    "\n",
    "X, y, coef = datasets.make_regression(n_samples = 100,\n",
    "                                     n_features = 2,\n",
    "                                     n_informative = 2,\n",
    "                                     n_targets = 1,\n",
    "                                     noise = 5,\n",
    "                                     coef = True,\n",
    "                                     random_state = 42)"
   ]
  },
  {
   "cell_type": "code",
   "execution_count": 4,
   "metadata": {},
   "outputs": [],
   "source": [
    "import numpy as np\n",
    "from sklearn import datasets\n",
    "import matplotlib.pyplot as plt\n",
    "\n",
    "%matplotlib inline"
   ]
  },
  {
   "cell_type": "code",
   "execution_count": 11,
   "metadata": {},
   "outputs": [],
   "source": [
    "def calc_mse(y, y_pred):\n",
    "    err = np.mean((y - y_pred)**2)\n",
    "    return err"
   ]
  },
  {
   "cell_type": "code",
   "execution_count": 43,
   "metadata": {},
   "outputs": [],
   "source": [
    "def eval_GD(X, y, iterations, alpha=1e-4):\n",
    "    np.random.seed(42)\n",
    "    w = np.random.randn(X.shape[1])\n",
    "    n = X.shape[0]\n",
    "    iter_num = 0\n",
    "    errors = []\n",
    "    for i in range(1, iterations + 1):\n",
    "        y_pred = np.dot(X, w)\n",
    "        err = calc_mse(y, y_pred)\n",
    "        w -= alpha * (1/n * 2 * np.dot((y_pred - y), X))\n",
    "        iter_num += 1\n",
    "        errors.append(mserror(X, w, y))\n",
    "        if i % (iterations / 10) == 0:\n",
    "            print(i, w, err)\n",
    "    return w"
   ]
  },
  {
   "cell_type": "code",
   "execution_count": 18,
   "metadata": {},
   "outputs": [
    {
     "name": "stdout",
     "output_type": "stream",
     "text": [
      "150 [77.98812456 70.84245251] 101.00012031045404\n",
      "300 [85.91949688 73.98513742] 29.447749543149758\n",
      "450 [86.75340147 74.10013615] 28.772456569533798\n",
      "600 [86.84223393 74.10142749] 28.764997644042495\n",
      "750 [86.85175568 74.10101565] 28.764911965729777\n",
      "900 [86.85277925 74.10094392] 28.764910973046263\n",
      "1050 [86.85288943 74.10093483] 28.764910961523615\n",
      "1200 [86.85290129 74.10093378] 28.764910961389795\n",
      "1350 [86.85290257 74.10093367] 28.764910961388267\n",
      "1500 [86.85290271 74.10093366] 28.76491096138825\n",
      "28.76491096138823\n"
     ]
    }
   ],
   "source": [
    "w_gd = eval_GD(X, y, iterations=1500, alpha=1e-2)\n",
    "y_pred = np.dot(X, w_gd)\n",
    "err_gb = calc_mse(y, y_pred)\n",
    "print(err_gb)"
   ]
  },
  {
   "cell_type": "code",
   "execution_count": 21,
   "metadata": {},
   "outputs": [],
   "source": [
    "def eval_SGD (X, y, iterations, qty_in_batch=1, alpha=1e-4):\n",
    "    np.random.seed(42)\n",
    "    w = np.random.randn(X.shape[1])\n",
    "    n = X.shape[0]\n",
    "    n_batch = n // qty_in_batch\n",
    "    if n % qty_in_batch != 0:\n",
    "        n_batch += 1\n",
    "    for i in range(1, iterations + 1):\n",
    "        for b in range(n_batch):\n",
    "            start_ = qty_in_batch * b\n",
    "            end_ = qty_in_batch * (b+1)\n",
    "            X_tmp = X[start_ : end_, :]\n",
    "            y_tmp = y[start_ : end_]\n",
    "            y_pred_tmp = np.dot(X_tmp, w)\n",
    "            err = calc_mse(y_tmp, y_pred_tmp)\n",
    "            w = alpha * (1/n * 2 * np.dot((y_pred_tmp - y_tmp), X_tmp))\n",
    "        if i % (iterations / 10) == 0:\n",
    "            print(i, w, err)\n",
    "    return w"
   ]
  },
  {
   "cell_type": "code",
   "execution_count": 38,
   "metadata": {},
   "outputs": [
    {
     "name": "stdout",
     "output_type": "stream",
     "text": [
      "150 [-0.0039406  -0.01185478] 5747.91189398044\n",
      "300 [-0.0039406  -0.01185478] 5747.91189398044\n",
      "450 [-0.0039406  -0.01185478] 5747.91189398044\n",
      "600 [-0.0039406  -0.01185478] 5747.91189398044\n",
      "750 [-0.0039406  -0.01185478] 5747.91189398044\n",
      "900 [-0.0039406  -0.01185478] 5747.91189398044\n",
      "1050 [-0.0039406  -0.01185478] 5747.91189398044\n",
      "1200 [-0.0039406  -0.01185478] 5747.91189398044\n",
      "1350 [-0.0039406  -0.01185478] 5747.91189398044\n",
      "1500 [-0.0039406  -0.01185478] 5747.91189398044\n",
      "11339.565864913526\n"
     ]
    }
   ],
   "source": [
    "w_sgd = eval_SGD(X, y, iterations=1500, qty_in_batch=1, alpha=1e-2)\n",
    "y_spred = np.dot(X, w_sgd)\n",
    "err_sgb = calc_mse(y, y_spred)\n",
    "print(err_sgb)"
   ]
  },
  {
   "cell_type": "code",
   "execution_count": 39,
   "metadata": {},
   "outputs": [
    {
     "name": "stdout",
     "output_type": "stream",
     "text": [
      "150 [-3.94028676e-05 -1.18538294e-04] 5746.992255019007\n",
      "300 [-3.94028676e-05 -1.18538294e-04] 5746.992255019007\n",
      "450 [-3.94028676e-05 -1.18538294e-04] 5746.992255019007\n",
      "600 [-3.94028676e-05 -1.18538294e-04] 5746.992255019007\n",
      "750 [-3.94028676e-05 -1.18538294e-04] 5746.992255019007\n",
      "900 [-3.94028676e-05 -1.18538294e-04] 5746.992255019007\n",
      "1050 [-3.94028676e-05 -1.18538294e-04] 5746.992255019007\n",
      "1200 [-3.94028676e-05 -1.18538294e-04] 5746.992255019007\n",
      "1350 [-3.94028676e-05 -1.18538294e-04] 5746.992255019007\n",
      "1500 [-3.94028676e-05 -1.18538294e-04] 5746.992255019007\n"
     ]
    },
    {
     "data": {
      "text/plain": [
       "array([-3.94028676e-05, -1.18538294e-04])"
      ]
     },
     "execution_count": 39,
     "metadata": {},
     "output_type": "execute_result"
    }
   ],
   "source": [
    "eval_SGD (X, y, iterations=1500, qty_in_batch=1, alpha=1e-4)"
   ]
  },
  {
   "cell_type": "code",
   "execution_count": 31,
   "metadata": {},
   "outputs": [],
   "source": [
    "from sklearn import preprocessing\n",
    "\n",
    "X_norm = X.copy().astype(np.float64)\n",
    "X_norm = preprocessing.normalize(X_norm)"
   ]
  },
  {
   "cell_type": "code",
   "execution_count": 40,
   "metadata": {},
   "outputs": [
    {
     "name": "stdout",
     "output_type": "stream",
     "text": [
      "150 [-4.78257057e-05 -1.43877284e-04] 5746.9927434369665\n",
      "300 [-4.78257057e-05 -1.43877284e-04] 5746.9927434369665\n",
      "450 [-4.78257057e-05 -1.43877284e-04] 5746.9927434369665\n",
      "600 [-4.78257057e-05 -1.43877284e-04] 5746.9927434369665\n",
      "750 [-4.78257057e-05 -1.43877284e-04] 5746.9927434369665\n",
      "900 [-4.78257057e-05 -1.43877284e-04] 5746.9927434369665\n",
      "1050 [-4.78257057e-05 -1.43877284e-04] 5746.9927434369665\n",
      "1200 [-4.78257057e-05 -1.43877284e-04] 5746.9927434369665\n",
      "1350 [-4.78257057e-05 -1.43877284e-04] 5746.9927434369665\n",
      "1500 [-4.78257057e-05 -1.43877284e-04] 5746.9927434369665\n"
     ]
    },
    {
     "data": {
      "text/plain": [
       "array([-4.78257057e-05, -1.43877284e-04])"
      ]
     },
     "execution_count": 40,
     "metadata": {},
     "output_type": "execute_result"
    }
   ],
   "source": [
    "eval_SGD (X_norm, y, iterations=1500, qty_in_batch=1, alpha=1e-4)"
   ]
  },
  {
   "cell_type": "markdown",
   "metadata": {},
   "source": [
    "2.Модифицировать решение первого задания путем добавления L2 регуляризации и сравнить результаты."
   ]
  },
  {
   "cell_type": "code",
   "execution_count": 44,
   "metadata": {},
   "outputs": [],
   "source": [
    "def eval_GD_reg(X, y, iterations, alpha=1e-4, lambda_=1e-8):\n",
    "    np.random.seed(42)\n",
    "    w = np.random.randn(X.shape[1])\n",
    "    n = X.shape[0]\n",
    "    for i in range(1, iterations + 1):\n",
    "        y_pred = np.dot(X, w)\n",
    "        err = calc_mse(y, y_pred)\n",
    "        w -= alpha * (1/n * 2 * np.dot((y_pred - y), X)+ 2 * lambda_ * w)\n",
    "        if i % (iterations / 10) == 0:\n",
    "            print(i, w, err)\n",
    "    return w"
   ]
  },
  {
   "cell_type": "code",
   "execution_count": 48,
   "metadata": {},
   "outputs": [
    {
     "name": "stdout",
     "output_type": "stream",
     "text": [
      "100 [1.79846799 1.35553997] 10904.050657995775\n",
      "200 [3.08042621 2.81948751] 10525.281539741083\n",
      "300 [4.34289314 4.25417218] 10159.958156376426\n",
      "400 [5.58616835 5.66017611] 9807.594973927788\n",
      "500 [6.81054675 7.03806986] 9467.724253232162\n",
      "600 [8.01631868 8.38841269] 9139.895389567284\n",
      "700 [9.20376994 9.71175277] 8823.674277040302\n",
      "800 [10.37318187 11.0086274 ] 8518.642696799427\n",
      "900 [11.52483146 12.27956325] 8224.397728168227\n",
      "1000 [12.65899137 13.52507651] 7940.5511818364685\n"
     ]
    },
    {
     "data": {
      "text/plain": [
       "array([12.65899137, 13.52507651])"
      ]
     },
     "execution_count": 48,
     "metadata": {},
     "output_type": "execute_result"
    }
   ],
   "source": [
    "eval_GD_reg(X, y, iterations=1000, alpha=1e-4, lambda_=0)"
   ]
  },
  {
   "cell_type": "code",
   "execution_count": null,
   "metadata": {},
   "outputs": [],
   "source": []
  }
 ],
 "metadata": {
  "kernelspec": {
   "display_name": "Python 3",
   "language": "python",
   "name": "python3"
  },
  "language_info": {
   "codemirror_mode": {
    "name": "ipython",
    "version": 3
   },
   "file_extension": ".py",
   "mimetype": "text/x-python",
   "name": "python",
   "nbconvert_exporter": "python",
   "pygments_lexer": "ipython3",
   "version": "3.8.5"
  }
 },
 "nbformat": 4,
 "nbformat_minor": 4
}
