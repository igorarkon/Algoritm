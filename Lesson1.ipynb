{
 "cells": [
  {
   "cell_type": "markdown",
   "metadata": {},
   "source": [
    "1. Подберите скорость обучения (alpha) и количество итераций для градиентного спуска (до совпадения ответов с результатами МНК). Как влияют друг на друга эти два параметра?"
   ]
  },
  {
   "cell_type": "code",
   "execution_count": 2,
   "metadata": {},
   "outputs": [],
   "source": [
    "import numpy as np\n",
    "import matplotlib.pyplot as plt"
   ]
  },
  {
   "cell_type": "code",
   "execution_count": 5,
   "metadata": {},
   "outputs": [],
   "source": [
    "X = np.array([[1, 1, 1, 1, 1, 1, 1, 1, 1, 1],\n",
    "              [1, 1, 2, 1, 3, 0, 5, 10, 1, 2]]).T\n",
    "\n",
    "y = [45, 55, 50, 59, 65, 35, 75, 80, 50, 60]"
   ]
  },
  {
   "cell_type": "code",
   "execution_count": 6,
   "metadata": {},
   "outputs": [],
   "source": [
    "def calc_mse(y, y_pred):\n",
    "    err = np.mean((y - y_pred)**2)\n",
    "    return err\n",
    "\n",
    "def calc_mae(y, y_pred):\n",
    "    err = np.mean(np.abs(y - y_pred))\n",
    "    return err"
   ]
  },
  {
   "cell_type": "code",
   "execution_count": 14,
   "metadata": {},
   "outputs": [
    {
     "name": "stdout",
     "output_type": "stream",
     "text": [
      "0 [1.1102 0.84  ] 3173.15\n",
      "100 [ 7.43515582 10.71754582] 899.5990444359252\n",
      "200 [11.44993589 10.49282195] 735.5540619653672\n",
      "300 [14.98921624  9.8634316 ] 606.0048772266812\n",
      "400 [18.17511588  9.27626113] 500.7989288428638\n",
      "500 [21.04606457  8.74617136] 415.355423398327\n",
      "600 [23.63334499  8.26841272] 345.96206460054725\n",
      "700 [25.96499229  7.83785632] 289.6039104863001\n",
      "800 [28.06626432  7.44984037] 243.83236130353217\n",
      "900 [29.95992301  7.10016181] 206.65877484533297\n",
      "1000 [31.66648131  6.78503276] 176.46806566379882\n"
     ]
    }
   ],
   "source": [
    "n = X.shape[0]\n",
    "alpha = 1e-3\n",
    "w = np.array([1, 0.5])\n",
    "\n",
    "for i in range(1000+1):\n",
    "    y_pred = np.dot(w, X.T)\n",
    "    err = calc_mse(y, y_pred)\n",
    "    for j in range(w.shape[0]):\n",
    "        w[j] -= alpha * (1/n * 2 * np.sum(X[:,j] * (y_pred - y)))\n",
    "    if i % 100 == 0:\n",
    "        print(i, w, err) # МНК: array([47.23214286,  3.91071429]) 45.937499999999986"
   ]
  },
  {
   "cell_type": "code",
   "execution_count": 29,
   "metadata": {},
   "outputs": [
    {
     "name": "stdout",
     "output_type": "stream",
     "text": [
      "0 [3.204 7.3  ] 3173.15\n",
      "100 [41.95214292  4.88570667] 61.568780958579865\n",
      "200 [46.58653419  4.02993086] 46.171203616546116\n",
      "300 [47.15320146  3.92529142] 45.94099410777858\n",
      "400 [47.22249035  3.9124967 ] 45.93755224048029\n",
      "500 [47.2309626   3.91093223] 45.93750078104854\n",
      "600 [47.23199854  3.91074093] 45.93750001167749\n",
      "700 [47.23212521  3.91071754] 45.9375000001746\n",
      "800 [47.2321407   3.91071468] 45.93750000000263\n",
      "900 [47.23214259  3.91071433] 45.937500000000036\n",
      "1000 [47.23214282  3.91071429] 45.93749999999999\n"
     ]
    }
   ],
   "source": [
    "n = X.shape[0]\n",
    "alpha = 2e-2\n",
    "w = np.array([1, 0.5])\n",
    "\n",
    "for i in range(1000+1):\n",
    "    y_pred = np.dot(w, X.T)\n",
    "    err = calc_mse(y, y_pred)\n",
    "    for j in range(w.shape[0]):\n",
    "        w[j] -= alpha * (1/n * 2 * np.sum(X[:,j] * (y_pred - y)))\n",
    "    if i % 100 == 0:\n",
    "        print(i, w, err) # МНК: array([47.23214286,  3.91071429]) 45.937499999999986"
   ]
  },
  {
   "cell_type": "code",
   "execution_count": 28,
   "metadata": {},
   "outputs": [
    {
     "name": "stdout",
     "output_type": "stream",
     "text": [
      "0 [1.1102 0.84  ] 3173.15\n",
      "1000 [31.66648131  6.78503276] 176.46806566379882\n",
      "2000 [41.73215361  4.92632937] 62.2342399245102\n",
      "3000 [45.28877016  4.26957292] 47.97214782992787\n",
      "4000 [46.54546925  4.03751382] 46.191525762883025\n",
      "5000 [46.98951279  3.95551778] 45.96921511416333\n",
      "6000 [47.14641166  3.92654521] 45.94145963171206\n",
      "7000 [47.2018505  3.916308 ] 45.93799435998291\n",
      "8000 [47.22143932  3.91269078] 45.93756172083931\n",
      "9000 [47.22836086  3.91141266] 45.937507705846215\n",
      "10000 [47.23080652  3.91096105] 45.93750096207484\n",
      "11000 [47.23167067  3.91080148] 45.93750012011503\n"
     ]
    }
   ],
   "source": [
    "n = X.shape[0]\n",
    "alpha = 1e-3\n",
    "w = np.array([1, 0.5])\n",
    "\n",
    "for i in range(11000+1):\n",
    "    y_pred = np.dot(w, X.T)\n",
    "    err = calc_mse(y, y_pred)\n",
    "    for j in range(w.shape[0]):\n",
    "        w[j] -= alpha * (1/n * 2 * np.sum(X[:,j] * (y_pred - y)))\n",
    "    if i % 1000 == 0:\n",
    "        print(i, w, err) # МНК: array([47.23214286,  3.91071429]) 45.937499999999986"
   ]
  },
  {
   "cell_type": "code",
   "execution_count": 36,
   "metadata": {},
   "outputs": [
    {
     "name": "stdout",
     "output_type": "stream",
     "text": [
      "0 [3.204 7.3  ] 3173.15\n",
      "500 [47.2309626   3.91093223] 45.93750078104854\n",
      "1000 [47.23214282  3.91071429] 45.93749999999999\n",
      "1500 [47.23214286  3.91071429] 45.937500000000014\n"
     ]
    }
   ],
   "source": [
    "n = X.shape[0]\n",
    "alpha = 2e-2\n",
    "w = np.array([1, 0.5])\n",
    "\n",
    "for i in range(1500+1):\n",
    "    y_pred = np.dot(w, X.T)\n",
    "    err = calc_mse(y, y_pred)\n",
    "    for j in range(w.shape[0]):\n",
    "        w[j] -= alpha * (1/n * 2 * np.sum(X[:,j] * (y_pred - y)))\n",
    "    if i % 500 == 0:\n",
    "        print(i, w, err) # МНК: array([47.23214286,  3.91071429]) 45.937499999999986"
   ]
  },
  {
   "cell_type": "markdown",
   "metadata": {},
   "source": [
    "Alha - скорость обучения или размер шага, интерации - количество шагов. Они взаимосязаны и для достижения необходимых значений можно менять как только одно из них так и оба."
   ]
  }
 ],
 "metadata": {
  "kernelspec": {
   "display_name": "Python 3",
   "language": "python",
   "name": "python3"
  },
  "language_info": {
   "codemirror_mode": {
    "name": "ipython",
    "version": 3
   },
   "file_extension": ".py",
   "mimetype": "text/x-python",
   "name": "python",
   "nbconvert_exporter": "python",
   "pygments_lexer": "ipython3",
   "version": "3.8.5"
  }
 },
 "nbformat": 4,
 "nbformat_minor": 4
}
