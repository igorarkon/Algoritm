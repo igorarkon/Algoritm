{
 "cells": [
  {
   "cell_type": "markdown",
   "metadata": {},
   "source": [
    "1. Измените функцию calc_logloss так, чтобы нули по возможности не попадали в np.log (как вариант - использовать np.clip или np.where)."
   ]
  },
  {
   "cell_type": "code",
   "execution_count": 1,
   "metadata": {},
   "outputs": [],
   "source": [
    "import numpy as np"
   ]
  },
  {
   "cell_type": "code",
   "execution_count": 2,
   "metadata": {},
   "outputs": [],
   "source": [
    "X = np.array([[1, 1, 1, 1, 1, 1, 1, 1, 1, 1],\n",
    "              [1, 1, 2, 1, 3, 0, 5, 10, 1, 2],  # стаж репетитора\n",
    "              [500, 700, 750, 600, 1450,        # средняя стоимость занятия\n",
    "               800, 1500, 2000, 450, 1000],\n",
    "              [1, 1, 2, 1, 2, 1, 3, 3, 1, 2]],  # квалификация репетитора\n",
    "              dtype = np.float64).T \n",
    "\n",
    "y = np.array([0, 0, 1, 0, 1, 0, 1, 0, 0, 1]) # поступил или нет ученик на специальность Математика"
   ]
  },
  {
   "cell_type": "code",
   "execution_count": 3,
   "metadata": {},
   "outputs": [],
   "source": [
    "def calc_logloss(y, y_pred):\n",
    "    np.clip(a=y_pred, a_min=1e-17, a_max=(1 - 1e-16), out=y_pred)\n",
    "    err = np.mean(- y * np.log(y_pred) - (1.0 - y) * np.log(1.0 - y_pred))\n",
    "    return err"
   ]
  },
  {
   "cell_type": "code",
   "execution_count": 4,
   "metadata": {},
   "outputs": [],
   "source": [
    "def sigmoid(z):\n",
    "    res = 1 / (1 + np.exp(-z))\n",
    "    return res"
   ]
  },
  {
   "cell_type": "code",
   "execution_count": 5,
   "metadata": {},
   "outputs": [],
   "source": [
    "def eval_LR_model(X, y, iterations, alpha=1e-4):\n",
    "    np.random.seed(42)\n",
    "    w = np.random.randn(X.shape[1])\n",
    "    n = X.shape[0]\n",
    "    for i in range(1, iterations + 1):\n",
    "        z = np.dot(X, w) # log(p/(1-p))\n",
    "        y_pred = sigmoid(z) # p [0, 1]\n",
    "        err = calc_logloss(y, y_pred)\n",
    "        w -= alpha * (1/n * np.dot(X.T, (y_pred - y)))\n",
    "        if i % (iterations / 10) == 0:\n",
    "            print(i, w, err)\n",
    "    return w"
   ]
  },
  {
   "cell_type": "code",
   "execution_count": 6,
   "metadata": {},
   "outputs": [
    {
     "data": {
      "text/plain": [
       "array([-0.97958969, -0.56713087, -0.46401617, -0.77336028,  0.97958969,\n",
       "       -0.36090146,  1.08270439,  2.11385144, -1.08270439,  0.05155735])"
      ]
     },
     "execution_count": 6,
     "metadata": {},
     "output_type": "execute_result"
    }
   ],
   "source": [
    "def standard_scaler(x):\n",
    "    res = (x - x.mean()) / x.std()\n",
    "    return res\n",
    "\n",
    "X_st = X.copy()\n",
    "X_st[:, 2] = standard_scaler(X[:, 2])\n",
    "X_st[:, 2]"
   ]
  },
  {
   "cell_type": "code",
   "execution_count": 7,
   "metadata": {},
   "outputs": [
    {
     "name": "stdout",
     "output_type": "stream",
     "text": [
      "100 [ 0.18484965 -0.70481989  0.79562879  1.18628976] 0.5521972941601363\n",
      "200 [ 0.03068715 -0.71011925  0.97545893  1.1411597 ] 0.49256515417676405\n",
      "300 [-0.08621623 -0.70278363  1.12058686  1.13528912] 0.45742460783827044\n",
      "400 [-0.18040236 -0.70602545  1.23767464  1.14817577] 0.43449619084636665\n",
      "500 [-0.25828078 -0.71688498  1.33435361  1.17418925] 0.4181995598483974\n",
      "600 [-0.32439836 -0.7325847   1.41612844  1.20935475] 0.4056093071546024\n",
      "700 [-0.38201827 -0.75130774  1.48682839  1.25071457] 0.39520237250559903\n",
      "800 [-0.43345982 -0.77185692  1.54912899  1.29612888] 0.3861738764634576\n",
      "900 [-0.48037073 -0.7934306   1.60492189  1.34407224] 0.3780860930070067\n",
      "1000 [-0.52392631 -0.81548705  1.65556349  1.39346541] 0.37069115708188327\n"
     ]
    }
   ],
   "source": [
    "w = eval_LR_model(X_st, y, 1000, 1e-2)"
   ]
  },
  {
   "cell_type": "code",
   "execution_count": 8,
   "metadata": {},
   "outputs": [
    {
     "name": "stdout",
     "output_type": "stream",
     "text": [
      "[0.17 0.29 0.47 0.23 0.81 0.57 0.8  0.27 0.15 0.67]\n",
      "[0 0 1 0 1 0 1 0 0 1]\n"
     ]
    },
    {
     "data": {
      "text/plain": [
       "0.37062015056058434"
      ]
     },
     "execution_count": 8,
     "metadata": {},
     "output_type": "execute_result"
    }
   ],
   "source": [
    "y_pred = sigmoid(np.dot(X_st, w))\n",
    "print(y_pred.round(2))\n",
    "print(y)\n",
    "calc_logloss(y, y_pred)"
   ]
  },
  {
   "cell_type": "markdown",
   "metadata": {},
   "source": [
    "2. Подберите аргументы функции eval_LR_model для логистической регрессии таким образом, чтобы log loss был минимальным. Покажите влияние гиперпараметров на ошибку алгоритма (оптимально здесь использовать критерий остановки обучения)."
   ]
  },
  {
   "cell_type": "code",
   "execution_count": 9,
   "metadata": {},
   "outputs": [],
   "source": [
    "def eval_LR_model_err(X, y, iterations, alpha=1e-4):\n",
    "    np.random.seed(42)\n",
    "    w = np.random.randn(X.shape[1])\n",
    "    n = X.shape[0]\n",
    "    for i in range(1, iterations + 1):\n",
    "        z = np.dot(X, w) \n",
    "        y_pred = sigmoid(z) \n",
    "        err = calc_logloss(y, y_pred)\n",
    "        w -= alpha * (1/n * np.dot((y_pred - y), X))\n",
    "    return err"
   ]
  },
  {
   "cell_type": "code",
   "execution_count": 18,
   "metadata": {},
   "outputs": [
    {
     "name": "stdout",
     "output_type": "stream",
     "text": [
      "0.01\n",
      "0.1\n",
      "1.0\n",
      "10.0\n",
      "[0.37069115708188327, 0.0522793269625515, 0.0034645971104755036, 9.382797166854433e-05]\n"
     ]
    }
   ],
   "source": [
    "err = []\n",
    "a = 1e-2\n",
    "alph_lis = []\n",
    "while a != 100:\n",
    "    alph_lis.append(a)\n",
    "    for i in range(1000, 20000, 5000):\n",
    "        e = eval_LR_model_err(X_st, y, iterations=i, alpha=a)\n",
    "        err.append(e)\n",
    "        print(a)\n",
    "        a *= 10\n",
    "    print(err)"
   ]
  },
  {
   "cell_type": "markdown",
   "metadata": {},
   "source": [
    "3. Создайте функцию calc_pred_proba, возвращающую предсказанную вероятность класса 1 (на вход подаются значения признаков Х и веса, которые уже посчитаны функцией eval_LR_model, на выходе - массив y_pred_proba)."
   ]
  },
  {
   "cell_type": "code",
   "execution_count": 19,
   "metadata": {},
   "outputs": [],
   "source": [
    "def calc_pred_proba(X, w):\n",
    "    p = 1 / (1 + np.exp(-np.dot(X, w)))\n",
    "    return p"
   ]
  },
  {
   "cell_type": "code",
   "execution_count": 20,
   "metadata": {},
   "outputs": [
    {
     "data": {
      "text/plain": [
       "array([0.17254154, 0.2921698 , 0.46600806, 0.22683055, 0.80819378,\n",
       "       0.56759459, 0.79762571, 0.26918031, 0.14951198, 0.67203133])"
      ]
     },
     "execution_count": 20,
     "metadata": {},
     "output_type": "execute_result"
    }
   ],
   "source": [
    "pred_proba = calc_pred_proba(X_st, w)\n",
    "pred_proba"
   ]
  },
  {
   "cell_type": "markdown",
   "metadata": {},
   "source": [
    "4. Создайте функцию calc_pred, возвращающую предсказанный класс (на вход подаются значения признаков Х и веса, которые уже посчитаны функцией eval_LR_model, на выходе - массив y_pred).\n"
   ]
  },
  {
   "cell_type": "code",
   "execution_count": 23,
   "metadata": {},
   "outputs": [],
   "source": [
    "def calc_pred(X, w, threshold=0.5):\n",
    "    pr = calc_pred_proba(X, w)\n",
    "    calc = (pr >= threshold).astype(int)\n",
    "    return calc"
   ]
  },
  {
   "cell_type": "code",
   "execution_count": 26,
   "metadata": {},
   "outputs": [
    {
     "name": "stdout",
     "output_type": "stream",
     "text": [
      "[0 0 0 0 1 1 1 0 0 1]\n",
      "[0 0 1 0 1 0 1 0 0 1]\n"
     ]
    }
   ],
   "source": [
    "calc_p = calc_pred(X_st, w)\n",
    "print(calc_p)\n",
    "print(y)"
   ]
  }
 ],
 "metadata": {
  "kernelspec": {
   "display_name": "Python 3",
   "language": "python",
   "name": "python3"
  },
  "language_info": {
   "codemirror_mode": {
    "name": "ipython",
    "version": 3
   },
   "file_extension": ".py",
   "mimetype": "text/x-python",
   "name": "python",
   "nbconvert_exporter": "python",
   "pygments_lexer": "ipython3",
   "version": "3.8.5"
  }
 },
 "nbformat": 4,
 "nbformat_minor": 4
}
